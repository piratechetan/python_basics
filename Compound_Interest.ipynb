{
 "cells": [
  {
   "cell_type": "code",
   "execution_count": 1,
   "id": "proper-boring",
   "metadata": {},
   "outputs": [
    {
     "name": "stdout",
     "output_type": "stream",
     "text": [
      "Enter the principle value 5000\n",
      "Enter the interest rate 4.5\n",
      "time period4\n",
      "compound interest of value is:  5962.59\n"
     ]
    }
   ],
   "source": [
    "def Compound_interest(p,r,t):\n",
    "    return p*((1+r/100)**t)\n",
    "       \n",
    "        \n",
    "\n",
    "\n",
    "p = int(input(\"Enter the principle value \"))\n",
    "r=float(input(\"Enter the interest rate \"))\n",
    "t=int(input(\"time period\"))                \n",
    "total = Compound_interest(p,r,t)\n",
    "print(\"compound interest of value is: \",round(total,2))"
   ]
  },
  {
   "cell_type": "code",
   "execution_count": null,
   "id": "extensive-arthritis",
   "metadata": {},
   "outputs": [],
   "source": []
  },
  {
   "cell_type": "code",
   "execution_count": null,
   "id": "sophisticated-october",
   "metadata": {},
   "outputs": [],
   "source": []
  },
  {
   "cell_type": "code",
   "execution_count": null,
   "id": "demonstrated-corrections",
   "metadata": {},
   "outputs": [],
   "source": []
  },
  {
   "cell_type": "code",
   "execution_count": null,
   "id": "heavy-gates",
   "metadata": {},
   "outputs": [],
   "source": []
  },
  {
   "cell_type": "code",
   "execution_count": null,
   "id": "small-richmond",
   "metadata": {},
   "outputs": [],
   "source": []
  }
 ],
 "metadata": {
  "kernelspec": {
   "display_name": "Python 3",
   "language": "python",
   "name": "python3"
  },
  "language_info": {
   "codemirror_mode": {
    "name": "ipython",
    "version": 3
   },
   "file_extension": ".py",
   "mimetype": "text/x-python",
   "name": "python",
   "nbconvert_exporter": "python",
   "pygments_lexer": "ipython3",
   "version": "3.8.5"
  }
 },
 "nbformat": 4,
 "nbformat_minor": 5
}
