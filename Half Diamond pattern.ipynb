{
 "cells": [
  {
   "cell_type": "code",
   "execution_count": 9,
   "id": "dried-wesley",
   "metadata": {},
   "outputs": [
    {
     "name": "stdout",
     "output_type": "stream",
     "text": [
      "Enter a number 6\n",
      "\n",
      "*\n",
      "**\n",
      "***\n",
      "****\n",
      "*****\n",
      "******\n",
      "*******\n",
      "******\n",
      "*****\n",
      "****\n",
      "***\n",
      "**\n",
      "*\n"
     ]
    }
   ],
   "source": [
    "def Half_diamond_pattern(num):\n",
    "    for i in range(0,num+1):\n",
    "        for j in range(0,i):\n",
    "            print(\"*\",end = \"\")\n",
    "        print(\"\")\n",
    "    for i in range(0,num+1):\n",
    "        for j in range(i,num+1):\n",
    "            print(\"*\",end = \"\")\n",
    "        print(\"\")\n",
    "        \n",
    "num=int(input(\"Enter a number \"))   \n",
    "Half_diamond_pattern(num)"
   ]
  },
  {
   "cell_type": "code",
   "execution_count": null,
   "id": "demonstrated-period",
   "metadata": {},
   "outputs": [],
   "source": []
  }
 ],
 "metadata": {
  "kernelspec": {
   "display_name": "Python 3",
   "language": "python",
   "name": "python3"
  },
  "language_info": {
   "codemirror_mode": {
    "name": "ipython",
    "version": 3
   },
   "file_extension": ".py",
   "mimetype": "text/x-python",
   "name": "python",
   "nbconvert_exporter": "python",
   "pygments_lexer": "ipython3",
   "version": "3.8.5"
  }
 },
 "nbformat": 4,
 "nbformat_minor": 5
}
