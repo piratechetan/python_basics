{
 "cells": [
  {
   "cell_type": "code",
   "execution_count": 10,
   "id": "reasonable-karma",
   "metadata": {},
   "outputs": [
    {
     "name": "stdout",
     "output_type": "stream",
     "text": [
      "Enter integer 7\n",
      "Cube of  1 is  1\n",
      "Cube of  2 is  8\n",
      "Cube of  3 is  27\n",
      "Cube of  4 is  64\n",
      "Cube of  5 is  125\n",
      "Cube of  6 is  216\n",
      "Cube of  7 is  343\n"
     ]
    }
   ],
   "source": [
    "def Cube(num):\n",
    "    for i in range(1,num+1):\n",
    "        print(\"Cube of \",i,\"is \",i**3)\n",
    "        \n",
    "num = int(input(\"Enter integer \"))\n",
    "\n",
    "Cube(num)\n"
   ]
  },
  {
   "cell_type": "code",
   "execution_count": null,
   "id": "parental-intent",
   "metadata": {},
   "outputs": [],
   "source": []
  }
 ],
 "metadata": {
  "kernelspec": {
   "display_name": "Python 3",
   "language": "python",
   "name": "python3"
  },
  "language_info": {
   "codemirror_mode": {
    "name": "ipython",
    "version": 3
   },
   "file_extension": ".py",
   "mimetype": "text/x-python",
   "name": "python",
   "nbconvert_exporter": "python",
   "pygments_lexer": "ipython3",
   "version": "3.8.5"
  }
 },
 "nbformat": 4,
 "nbformat_minor": 5
}
