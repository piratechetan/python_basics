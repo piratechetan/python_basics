{
 "cells": [
  {
   "cell_type": "code",
   "execution_count": 4,
   "id": "auburn-charge",
   "metadata": {},
   "outputs": [
    {
     "name": "stdout",
     "output_type": "stream",
     "text": [
      "Enter the Kilometer4\n",
      "4 KM is 2.4856 Miles\n"
     ]
    }
   ],
   "source": [
    "def Km_to_Miles(distance):\n",
    "    return distance*0.6214\n",
    "       \n",
    "        \n",
    "\n",
    "\n",
    "distance = int(input(\"Enter the Kilometer\"))\n",
    "               \n",
    "print(distance,\"KM is\",Km_to_Miles(distance),\"Miles\")\n"
   ]
  },
  {
   "cell_type": "code",
   "execution_count": null,
   "id": "stainless-olympus",
   "metadata": {},
   "outputs": [],
   "source": []
  },
  {
   "cell_type": "code",
   "execution_count": null,
   "id": "hawaiian-perspective",
   "metadata": {},
   "outputs": [],
   "source": []
  }
 ],
 "metadata": {
  "kernelspec": {
   "display_name": "Python 3",
   "language": "python",
   "name": "python3"
  },
  "language_info": {
   "codemirror_mode": {
    "name": "ipython",
    "version": 3
   },
   "file_extension": ".py",
   "mimetype": "text/x-python",
   "name": "python",
   "nbconvert_exporter": "python",
   "pygments_lexer": "ipython3",
   "version": "3.8.5"
  }
 },
 "nbformat": 4,
 "nbformat_minor": 5
}
