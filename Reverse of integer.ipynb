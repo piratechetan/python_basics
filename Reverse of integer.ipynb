{
 "cells": [
  {
   "cell_type": "code",
   "execution_count": null,
   "id": "valid-metallic",
   "metadata": {},
   "outputs": [],
   "source": [
    "def Reverse(num):\n",
    "    rev = 0\n",
    "    while num>0:\n",
    "        \n",
    "        rev = rev*10 + num%10\n",
    "        num=num//10\n",
    "    return rev\n",
    "num = int(input(\"Enter interger\"))\n",
    "value = Reverse(num)\n",
    "print(\"Reverse Interger is \",value)"
   ]
  },
  {
   "cell_type": "code",
   "execution_count": null,
   "id": "little-launch",
   "metadata": {},
   "outputs": [],
   "source": []
  },
  {
   "cell_type": "code",
   "execution_count": null,
   "id": "empty-stone",
   "metadata": {},
   "outputs": [],
   "source": []
  },
  {
   "cell_type": "code",
   "execution_count": null,
   "id": "changed-prediction",
   "metadata": {},
   "outputs": [],
   "source": []
  },
  {
   "cell_type": "code",
   "execution_count": null,
   "id": "breathing-tomato",
   "metadata": {},
   "outputs": [],
   "source": []
  }
 ],
 "metadata": {
  "kernelspec": {
   "display_name": "Python 3",
   "language": "python",
   "name": "python3"
  },
  "language_info": {
   "codemirror_mode": {
    "name": "ipython",
    "version": 3
   },
   "file_extension": ".py",
   "mimetype": "text/x-python",
   "name": "python",
   "nbconvert_exporter": "python",
   "pygments_lexer": "ipython3",
   "version": "3.8.5"
  }
 },
 "nbformat": 4,
 "nbformat_minor": 5
}
