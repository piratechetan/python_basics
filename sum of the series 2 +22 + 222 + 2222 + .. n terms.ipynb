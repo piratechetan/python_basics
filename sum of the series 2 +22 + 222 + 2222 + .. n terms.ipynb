{
 "cells": [
  {
   "cell_type": "code",
   "execution_count": 3,
   "id": "illegal-motivation",
   "metadata": {},
   "outputs": [
    {
     "name": "stdout",
     "output_type": "stream",
     "text": [
      "Enter Nth term of Series 5\n",
      "sum of Series is  2458.8684\n"
     ]
    }
   ],
   "source": [
    "def SumOfSeries(N):\n",
    "    return 0.0246 * (pow(10, N) - 1 - (9 * N))\n",
    "    return rev\n",
    "N = int(input(\"Enter Nth term of Series \"))\n",
    "print(\"sum of Series is \",SumOfSeries(N))"
   ]
  },
  {
   "cell_type": "code",
   "execution_count": null,
   "id": "special-specialist",
   "metadata": {},
   "outputs": [],
   "source": []
  }
 ],
 "metadata": {
  "kernelspec": {
   "display_name": "Python 3",
   "language": "python",
   "name": "python3"
  },
  "language_info": {
   "codemirror_mode": {
    "name": "ipython",
    "version": 3
   },
   "file_extension": ".py",
   "mimetype": "text/x-python",
   "name": "python",
   "nbconvert_exporter": "python",
   "pygments_lexer": "ipython3",
   "version": "3.8.5"
  }
 },
 "nbformat": 4,
 "nbformat_minor": 5
}
